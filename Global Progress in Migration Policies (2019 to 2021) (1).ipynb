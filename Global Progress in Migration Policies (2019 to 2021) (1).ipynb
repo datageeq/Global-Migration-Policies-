{
 "cells": [
  {
   "cell_type": "code",
   "execution_count": 1,
   "id": "29903c9a",
   "metadata": {},
   "outputs": [],
   "source": [
    "import pandas as pd\n",
    "import matplotlib.pyplot as plt"
   ]
  },
  {
   "cell_type": "code",
   "execution_count": null,
   "id": "80a32aea",
   "metadata": {},
   "outputs": [],
   "source": [
    "## Factors Contributing to the Success of a Movie Analysis"
   ]
  },
  {
   "cell_type": "code",
   "execution_count": null,
   "id": "71b2accc",
   "metadata": {},
   "outputs": [],
   "source": [
    "**This text will be bold in Markdown**\n"
   ]
  },
  {
   "cell_type": "code",
   "execution_count": null,
   "id": "0af399e9",
   "metadata": {},
   "outputs": [],
   "source": [
    "### Goal\n"
   ]
  },
  {
   "cell_type": "code",
   "execution_count": null,
   "id": "16c2c495",
   "metadata": {},
   "outputs": [],
   "source": [
    "#### Importing the necessary libraries I will use for this project\n"
   ]
  },
  {
   "cell_type": "code",
   "execution_count": 3,
   "id": "c7457eb1",
   "metadata": {},
   "outputs": [],
   "source": [
    "file_path = r\"C:\\Users\\Sietoyo\\Downloads\\facilitate-orderly-safe-migration.csv\"\n",
    "df = pd.read_csv(file_path)\n"
   ]
  },
  {
   "cell_type": "code",
   "execution_count": 5,
   "id": "be71ffa4",
   "metadata": {},
   "outputs": [],
   "source": [
    "# Step 2: Calculate Changes\n",
    "# Pivot the data to have years as columns\n",
    "df_pivot = df.pivot(index='Entity', columns='Year', values='10.7.2 - Countries with migration policies to facilitate orderly, safe, regular and responsible migration and mobility of people, by policy domain (1 = Requires further progress; 2 = Partially meets; 3 = Meets; 4 = Fully meets) - SG_CPA_MIGRS - All Domains').reset_index()"
   ]
  },
  {
   "cell_type": "code",
   "execution_count": 6,
   "id": "f356d1d5",
   "metadata": {},
   "outputs": [],
   "source": [
    "# Calculate the change in scores from 2019 to 2021\n",
    "df_pivot['Change'] = df_pivot[2021] - df_pivot[2019]"
   ]
  },
  {
   "cell_type": "code",
   "execution_count": 7,
   "id": "876be9c9",
   "metadata": {},
   "outputs": [],
   "source": [
    "# Step 3: Classify Changes\n",
    "def classify_change(change):\n",
    "    if change > 0:\n",
    "        return 'Progress'\n",
    "    elif change < 0:\n",
    "        return 'Regression'\n",
    "    else:\n",
    "        return 'No Change'\n",
    "df_pivot['Classification'] = df_pivot['Change'].apply(classify_change)\n"
   ]
  },
  {
   "cell_type": "code",
   "execution_count": 8,
   "id": "042d761a",
   "metadata": {},
   "outputs": [],
   "source": [
    "# Step 4: Descriptive Statistics\n",
    "summary = df_pivot['Classification'].value_counts().reset_index()\n",
    "summary.columns = ['Classification', 'Count']"
   ]
  },
  {
   "cell_type": "code",
   "execution_count": 9,
   "id": "68d961f5",
   "metadata": {},
   "outputs": [
    {
     "data": {
      "image/png": "[encoded data removed]",
      "text/plain": [
       "<Figure size 800x600 with 1 Axes>"
      ]
     },
     "metadata": {},
     "output_type": "display_data"
    }
   ],
   "source": [
    "# Step 5: Visualization\n",
    "# Bar Chart\n",
    "plt.figure(figsize=(8, 6))\n",
    "plt.bar(summary['Classification'], summary['Count'], color=['green', 'red', 'grey'])\n",
    "plt.title('Progress Identification in Migration Policies (2019 to 2021)')\n",
    "plt.xlabel('Classification')\n",
    "plt.ylabel('Number of Countries')\n",
    "plt.show()"
   ]
  },
  {
   "cell_type": "code",
   "execution_count": 10,
   "id": "91bfaf52",
   "metadata": {},
   "outputs": [
    {
     "name": "stdout",
     "output_type": "stream",
     "text": [
      "Year       Entity  2019  2021  Change Classification\n",
      "0     Afghanistan   NaN   3.0     NaN      No Change\n",
      "1          Angola   3.0   2.0    -1.0     Regression\n",
      "2       Argentina   3.0   3.0     0.0      No Change\n",
      "3         Armenia   3.0   NaN     NaN      No Change\n",
      "4       Australia   2.0   3.0     1.0       Progress\n",
      "..            ...   ...   ...     ...            ...\n",
      "132       Uruguay   3.0   3.0     0.0      No Change\n",
      "133       Vietnam   2.0   NaN     NaN      No Change\n",
      "134         Yemen   1.0   NaN     NaN      No Change\n",
      "135        Zambia   2.0   3.0     1.0       Progress\n",
      "136      Zimbabwe   NaN   3.0     NaN      No Change\n",
      "\n",
      "[137 rows x 5 columns]\n"
     ]
    }
   ],
   "source": [
    "# Detailed Table\n",
    "detailed_table = df_pivot[['Entity', 2019, 2021, 'Change', 'Classification']]\n",
    "print(detailed_table)\n"
   ]
  },
  {
   "cell_type": "code",
   "execution_count": 11,
   "id": "1f586662",
   "metadata": {},
   "outputs": [
    {
     "name": "stdout",
     "output_type": "stream",
     "text": [
      "  Classification  Count\n",
      "0      No Change    113\n",
      "1       Progress     19\n",
      "2     Regression      5\n"
     ]
    }
   ],
   "source": [
    "# Summary\n",
    "print(summary)"
   ]
  },
  {
   "cell_type": "code",
   "execution_count": 14,
   "id": "a04fa95c",
   "metadata": {},
   "outputs": [
    {
     "name": "stdout",
     "output_type": "stream",
     "text": [
      "Countries that made progress:\n",
      "Year         Entity  Change\n",
      "4         Australia     1.0\n",
      "9           Belarus     1.0\n",
      "14         Botswana     2.0\n",
      "18     Burkina Faso     1.0\n",
      "29    Cote d'Ivoire     1.0\n",
      "46          Germany     1.0\n",
      "51           Guinea     1.0\n",
      "63            Japan     1.0\n",
      "69           Latvia     1.0\n",
      "80           Mexico     2.0\n",
      "88            Nepal     1.0\n",
      "97           Panama     1.0\n",
      "100            Peru     1.0\n",
      "104           Qatar     1.0\n",
      "105         Romania     1.0\n",
      "106          Russia     1.0\n",
      "115        Slovenia     1.0\n",
      "127          Turkey     1.0\n",
      "135          Zambia     1.0\n"
     ]
    }
   ],
   "source": [
    "# Detailed Tables for Progress and Regression\n",
    "print(\"Countries that made progress:\")\n",
    "print(progress_countries)"
   ]
  },
  {
   "cell_type": "code",
   "execution_count": 15,
   "id": "8af61dde",
   "metadata": {},
   "outputs": [
    {
     "name": "stdout",
     "output_type": "stream",
     "text": [
      "\n",
      "Countries that regressed:\n",
      "Year      Entity  Change\n",
      "1         Angola    -1.0\n",
      "8     Bangladesh    -1.0\n",
      "49       Grenada    -1.0\n",
      "99      Paraguay    -1.0\n",
      "111      Senegal    -1.0\n"
     ]
    }
   ],
   "source": [
    "print(\"\\nCountries that regressed:\")\n",
    "print(regression_countries)"
   ]
  },
  {
   "cell_type": "code",
   "execution_count": 16,
   "id": "f7dcb085",
   "metadata": {},
   "outputs": [
    {
     "name": "stdout",
     "output_type": "stream",
     "text": [
      "  Classification  Count\n",
      "0      No Change    113\n",
      "1       Progress     19\n",
      "2     Regression      5\n"
     ]
    }
   ],
   "source": [
    "# Summary\n",
    "print(summary)"
   ]
  }
 ],
 "metadata": {
  "kernelspec": {
   "display_name": "Python 3 (ipykernel)",
   "language": "python",
   "name": "python3"
  },
  "language_info": {
   "codemirror_mode": {
    "name": "ipython",
    "version": 3
   },
   "file_extension": ".py",
   "mimetype": "text/x-python",
   "name": "python",
   "nbconvert_exporter": "python",
   "pygments_lexer": "ipython3",
   "version": "3.10.9"
  }
 },
 "nbformat": 4,
 "nbformat_minor": 5
}
